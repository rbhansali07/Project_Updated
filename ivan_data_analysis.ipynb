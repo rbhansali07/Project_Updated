{
 "cells": [
  {
   "cell_type": "code",
   "execution_count": 4,
   "metadata": {},
   "outputs": [],
   "source": [
    "import pandas as pd\n",
    "import matplotlib.pyplot as plt\n",
    "import numpy as np\n",
    "file = \"Resources/Minimum_Wage_Updated.csv\""
   ]
  },
  {
   "cell_type": "code",
   "execution_count": 5,
   "metadata": {
    "scrolled": true
   },
   "outputs": [
    {
     "data": {
      "text/html": [
       "<div>\n",
       "<style scoped>\n",
       "    .dataframe tbody tr th:only-of-type {\n",
       "        vertical-align: middle;\n",
       "    }\n",
       "\n",
       "    .dataframe tbody tr th {\n",
       "        vertical-align: top;\n",
       "    }\n",
       "\n",
       "    .dataframe thead th {\n",
       "        text-align: right;\n",
       "    }\n",
       "</style>\n",
       "<table border=\"1\" class=\"dataframe\">\n",
       "  <thead>\n",
       "    <tr style=\"text-align: right;\">\n",
       "      <th></th>\n",
       "      <th>Unnamed: 0</th>\n",
       "      <th>Year</th>\n",
       "      <th>State</th>\n",
       "      <th>Minimum Wage</th>\n",
       "      <th>CPI Average</th>\n",
       "      <th>Wage equivalent in 2018</th>\n",
       "    </tr>\n",
       "  </thead>\n",
       "  <tbody>\n",
       "    <tr>\n",
       "      <th>0</th>\n",
       "      <td>0</td>\n",
       "      <td>1968</td>\n",
       "      <td>Alabama</td>\n",
       "      <td>1.60</td>\n",
       "      <td>34.78</td>\n",
       "      <td>11.55</td>\n",
       "    </tr>\n",
       "    <tr>\n",
       "      <th>1</th>\n",
       "      <td>1</td>\n",
       "      <td>1968</td>\n",
       "      <td>Alaska</td>\n",
       "      <td>2.10</td>\n",
       "      <td>34.78</td>\n",
       "      <td>15.12</td>\n",
       "    </tr>\n",
       "    <tr>\n",
       "      <th>2</th>\n",
       "      <td>2</td>\n",
       "      <td>1968</td>\n",
       "      <td>Arizona</td>\n",
       "      <td>0.66</td>\n",
       "      <td>34.78</td>\n",
       "      <td>4.75</td>\n",
       "    </tr>\n",
       "    <tr>\n",
       "      <th>3</th>\n",
       "      <td>3</td>\n",
       "      <td>1968</td>\n",
       "      <td>Arkansas</td>\n",
       "      <td>0.16</td>\n",
       "      <td>34.78</td>\n",
       "      <td>1.12</td>\n",
       "    </tr>\n",
       "    <tr>\n",
       "      <th>4</th>\n",
       "      <td>4</td>\n",
       "      <td>1968</td>\n",
       "      <td>California</td>\n",
       "      <td>1.65</td>\n",
       "      <td>34.78</td>\n",
       "      <td>11.88</td>\n",
       "    </tr>\n",
       "  </tbody>\n",
       "</table>\n",
       "</div>"
      ],
      "text/plain": [
       "   Unnamed: 0  Year       State  Minimum Wage  CPI Average  \\\n",
       "0           0  1968     Alabama          1.60        34.78   \n",
       "1           1  1968      Alaska          2.10        34.78   \n",
       "2           2  1968     Arizona          0.66        34.78   \n",
       "3           3  1968    Arkansas          0.16        34.78   \n",
       "4           4  1968  California          1.65        34.78   \n",
       "\n",
       "   Wage equivalent in 2018  \n",
       "0                    11.55  \n",
       "1                    15.12  \n",
       "2                     4.75  \n",
       "3                     1.12  \n",
       "4                    11.88  "
      ]
     },
     "execution_count": 5,
     "metadata": {},
     "output_type": "execute_result"
    }
   ],
   "source": [
    "df = pd.read_csv(file)\n",
    "df.head()"
   ]
  },
  {
   "cell_type": "code",
   "execution_count": 40,
   "metadata": {},
   "outputs": [
    {
     "data": {
      "image/png": "[encoded data removed]",
      "text/plain": [
       "<Figure size 432x288 with 1 Axes>"
      ]
     },
     "metadata": {
      "needs_background": "light"
     },
     "output_type": "display_data"
    }
   ],
   "source": [
    "##plot min wage vs min wage in 2018\n",
    "df_grp = df.groupby(\"Year\")\n",
    "wage_2018_year = df_grp[\"Wage equivalent in 2018\"].mean()\n",
    "min_wage = df_grp[\"Minimum Wage\"].min()\n",
    "\n",
    "#plot the line graph\n",
    "fig = plt.figure()\n",
    "ax = plt.subplot(111)\n",
    "ax.plot(df[\"Year\"].unique(), min_wage, label='Min wage')\n",
    "ax.plot(df[\"Year\"].unique(), wage_2018_year, label='Min wage in 2018')\n",
    "\n",
    "plt.xlabel(\"Year 1968 to 2017\")\n",
    "plt.ylabel(\"Wage ($)\")\n",
    "plt.title(\"Min Wage vs Min wage in 2018 \")\n",
    "ax.legend()\n",
    "# Saves an image of our chart so that we can view it in a folder\n",
    "plt.savefig(\"Resources/min_avg_max_range_number3.png\")\n",
    "plt.show()\n",
    "#min_wage_per_year\n"
   ]
  },
  {
   "cell_type": "code",
   "execution_count": 41,
   "metadata": {
    "scrolled": true
   },
   "outputs": [
    {
     "data": {
      "text/plain": [
       "<Figure size 432x288 with 0 Axes>"
      ]
     },
     "metadata": {},
     "output_type": "display_data"
    }
   ],
   "source": [
    "# Saves an image of our chart so that we can view it in a folder\n",
    "plt.savefig(\"./Resources/min_wage_vs_min_wage_adj_2018.png\")\n",
    "plt.show()"
   ]
  },
  {
   "cell_type": "code",
   "execution_count": 82,
   "metadata": {},
   "outputs": [
    {
     "data": {
      "text/plain": [
       "<Figure size 432x288 with 0 Axes>"
      ]
     },
     "metadata": {},
     "output_type": "display_data"
    }
   ],
   "source": [
    "# Saves an image of our chart so that we can view it in a folder\n",
    "#plt.savefig(\"./Resources/min_wage_vs_min_wage_adj_2018.png\")\n",
    "#plt.show()"
   ]
  },
  {
   "cell_type": "code",
   "execution_count": 51,
   "metadata": {},
   "outputs": [
    {
     "data": {
      "text/html": [
       "<div>\n",
       "<style scoped>\n",
       "    .dataframe tbody tr th:only-of-type {\n",
       "        vertical-align: middle;\n",
       "    }\n",
       "\n",
       "    .dataframe tbody tr th {\n",
       "        vertical-align: top;\n",
       "    }\n",
       "\n",
       "    .dataframe thead th {\n",
       "        text-align: right;\n",
       "    }\n",
       "</style>\n",
       "<table border=\"1\" class=\"dataframe\">\n",
       "  <thead>\n",
       "    <tr style=\"text-align: right;\">\n",
       "      <th></th>\n",
       "      <th>Unnamed: 0</th>\n",
       "      <th>Year</th>\n",
       "      <th>State</th>\n",
       "      <th>Minimum Wage</th>\n",
       "      <th>CPI Average</th>\n",
       "      <th>Wage equivalent in 2018</th>\n",
       "    </tr>\n",
       "  </thead>\n",
       "  <tbody>\n",
       "    <tr>\n",
       "      <th>0</th>\n",
       "      <td>0</td>\n",
       "      <td>1968</td>\n",
       "      <td>Alabama</td>\n",
       "      <td>1.60</td>\n",
       "      <td>34.78</td>\n",
       "      <td>11.55</td>\n",
       "    </tr>\n",
       "    <tr>\n",
       "      <th>1</th>\n",
       "      <td>1</td>\n",
       "      <td>1968</td>\n",
       "      <td>Alaska</td>\n",
       "      <td>2.10</td>\n",
       "      <td>34.78</td>\n",
       "      <td>15.12</td>\n",
       "    </tr>\n",
       "    <tr>\n",
       "      <th>2</th>\n",
       "      <td>2</td>\n",
       "      <td>1968</td>\n",
       "      <td>Arizona</td>\n",
       "      <td>0.66</td>\n",
       "      <td>34.78</td>\n",
       "      <td>4.75</td>\n",
       "    </tr>\n",
       "    <tr>\n",
       "      <th>3</th>\n",
       "      <td>3</td>\n",
       "      <td>1968</td>\n",
       "      <td>Arkansas</td>\n",
       "      <td>0.16</td>\n",
       "      <td>34.78</td>\n",
       "      <td>1.12</td>\n",
       "    </tr>\n",
       "    <tr>\n",
       "      <th>4</th>\n",
       "      <td>4</td>\n",
       "      <td>1968</td>\n",
       "      <td>California</td>\n",
       "      <td>1.65</td>\n",
       "      <td>34.78</td>\n",
       "      <td>11.88</td>\n",
       "    </tr>\n",
       "  </tbody>\n",
       "</table>\n",
       "</div>"
      ],
      "text/plain": [
       "   Unnamed: 0  Year       State  Minimum Wage  CPI Average  \\\n",
       "0           0  1968     Alabama          1.60        34.78   \n",
       "1           1  1968      Alaska          2.10        34.78   \n",
       "2           2  1968     Arizona          0.66        34.78   \n",
       "3           3  1968    Arkansas          0.16        34.78   \n",
       "4           4  1968  California          1.65        34.78   \n",
       "\n",
       "   Wage equivalent in 2018  \n",
       "0                    11.55  \n",
       "1                    15.12  \n",
       "2                     4.75  \n",
       "3                     1.12  \n",
       "4                    11.88  "
      ]
     },
     "execution_count": 51,
     "metadata": {},
     "output_type": "execute_result"
    }
   ],
   "source": [
    "df.head()"
   ]
  },
  {
   "cell_type": "code",
   "execution_count": 52,
   "metadata": {},
   "outputs": [
    {
     "data": {
      "text/plain": [
       "(2750, 1)"
      ]
     },
     "execution_count": 52,
     "metadata": {},
     "output_type": "execute_result"
    }
   ],
   "source": [
    "# plot top 5 states wiht largest change over time\n",
    "\n",
    "Top_5_max = df[[\"Year\",\"State\"]]\n",
    "\n",
    "# Set the index to be \"State\" so they will be used as labels\n",
    "Top_5_max = Top_5_max.set_index(\"State\")\n",
    "\n",
    "Top_5_max.head()\n",
    "\n",
    "Top_5_max.shape"
   ]
  },
  {
   "cell_type": "code",
   "execution_count": 53,
   "metadata": {},
   "outputs": [
    {
     "data": {
      "image/png": "[encoded data removed]",
      "text/plain": [
       "<Figure size 1440x216 with 1 Axes>"
      ]
     },
     "metadata": {
      "needs_background": "light"
     },
     "output_type": "display_data"
    },
    {
     "data": {
      "text/plain": [
       "<Figure size 432x288 with 0 Axes>"
      ]
     },
     "metadata": {},
     "output_type": "display_data"
    }
   ],
   "source": [
    "# Use DataFrame.plot() in order to create a bar chart of the data\n",
    "Top_5_max.plot(kind=\"bar\", figsize=(20,3))\n",
    "\n",
    "# Set a title for the chart\n",
    "plt.title(\"Top 5 states with the largest change over time\")\n",
    "\n",
    "plt.show()\n",
    "plt.tight_layout()"
   ]
  },
  {
   "cell_type": "code",
   "execution_count": 58,
   "metadata": {},
   "outputs": [
    {
     "data": {
      "text/plain": [
       "<Figure size 432x288 with 0 Axes>"
      ]
     },
     "metadata": {},
     "output_type": "display_data"
    }
   ],
   "source": [
    "# Saves an image of our chart so that we can view it in a folder\n",
    "plt.savefig(\"./Resources/Top 5 states with the largest change over time.png\")\n",
    "plt.show()"
   ]
  },
  {
   "cell_type": "code",
   "execution_count": 56,
   "metadata": {},
   "outputs": [
    {
     "data": {
      "text/plain": [
       "(2750, 1)"
      ]
     },
     "execution_count": 56,
     "metadata": {},
     "output_type": "execute_result"
    }
   ],
   "source": [
    "# plot top 5 states wiht least change over time\n",
    "\n",
    "Top_5_min = df[[\"Year\",\"State\"]]\n",
    "\n",
    "# Set the index to be \"State\" so they will be used as labels\n",
    "Top_5_min = Top_5_min.set_index(\"State\")\n",
    "\n",
    "Top_5_min.head()\n",
    "\n",
    "Top_5_min.shape"
   ]
  },
  {
   "cell_type": "code",
   "execution_count": 57,
   "metadata": {},
   "outputs": [
    {
     "data": {
      "image/png": "[encoded data removed]",
      "text/plain": [
       "<Figure size 1440x216 with 1 Axes>"
      ]
     },
     "metadata": {
      "needs_background": "light"
     },
     "output_type": "display_data"
    },
    {
     "data": {
      "text/plain": [
       "<Figure size 432x288 with 0 Axes>"
      ]
     },
     "metadata": {},
     "output_type": "display_data"
    }
   ],
   "source": [
    "# plot top 5 states wiht least change over time\n",
    "\n",
    "\n",
    "# Use DataFrame.plot() in order to create a bar chart of the data\n",
    "Top_5_min.plot(kind=\"bar\", figsize=(20,3))\n",
    "\n",
    "# Set a title for the chart\n",
    "plt.title(\"Top 5 states with the least change over time\")\n",
    "\n",
    "plt.show()\n",
    "plt.tight_layout()"
   ]
  },
  {
   "cell_type": "code",
   "execution_count": 59,
   "metadata": {},
   "outputs": [
    {
     "data": {
      "text/plain": [
       "<Figure size 432x288 with 0 Axes>"
      ]
     },
     "metadata": {},
     "output_type": "display_data"
    }
   ],
   "source": [
    "# Saves an image of our chart so that we can view it in a folder\n",
    "plt.savefig(\"./Resources/Top 5 states with the least change over time.png\")\n",
    "plt.show()"
   ]
  },
  {
   "cell_type": "code",
   "execution_count": 18,
   "metadata": {},
   "outputs": [
    {
     "data": {
      "text/html": [
       "<div>\n",
       "<style scoped>\n",
       "    .dataframe tbody tr th:only-of-type {\n",
       "        vertical-align: middle;\n",
       "    }\n",
       "\n",
       "    .dataframe tbody tr th {\n",
       "        vertical-align: top;\n",
       "    }\n",
       "\n",
       "    .dataframe thead th {\n",
       "        text-align: right;\n",
       "    }\n",
       "</style>\n",
       "<table border=\"1\" class=\"dataframe\">\n",
       "  <thead>\n",
       "    <tr style=\"text-align: right;\">\n",
       "      <th></th>\n",
       "      <th>Unnamed: 0</th>\n",
       "      <th>Year</th>\n",
       "      <th>State</th>\n",
       "      <th>Minimum Wage</th>\n",
       "      <th>CPI Average</th>\n",
       "      <th>Wage equivalent in 2018</th>\n",
       "    </tr>\n",
       "  </thead>\n",
       "  <tbody>\n",
       "    <tr>\n",
       "      <th>0</th>\n",
       "      <td>0</td>\n",
       "      <td>1968</td>\n",
       "      <td>Alabama</td>\n",
       "      <td>1.60</td>\n",
       "      <td>34.78</td>\n",
       "      <td>11.55</td>\n",
       "    </tr>\n",
       "    <tr>\n",
       "      <th>1</th>\n",
       "      <td>1</td>\n",
       "      <td>1968</td>\n",
       "      <td>Alaska</td>\n",
       "      <td>2.10</td>\n",
       "      <td>34.78</td>\n",
       "      <td>15.12</td>\n",
       "    </tr>\n",
       "    <tr>\n",
       "      <th>2</th>\n",
       "      <td>2</td>\n",
       "      <td>1968</td>\n",
       "      <td>Arizona</td>\n",
       "      <td>0.66</td>\n",
       "      <td>34.78</td>\n",
       "      <td>4.75</td>\n",
       "    </tr>\n",
       "    <tr>\n",
       "      <th>3</th>\n",
       "      <td>3</td>\n",
       "      <td>1968</td>\n",
       "      <td>Arkansas</td>\n",
       "      <td>0.16</td>\n",
       "      <td>34.78</td>\n",
       "      <td>1.12</td>\n",
       "    </tr>\n",
       "    <tr>\n",
       "      <th>4</th>\n",
       "      <td>4</td>\n",
       "      <td>1968</td>\n",
       "      <td>California</td>\n",
       "      <td>1.65</td>\n",
       "      <td>34.78</td>\n",
       "      <td>11.88</td>\n",
       "    </tr>\n",
       "  </tbody>\n",
       "</table>\n",
       "</div>"
      ],
      "text/plain": [
       "   Unnamed: 0  Year       State  Minimum Wage  CPI Average  \\\n",
       "0           0  1968     Alabama          1.60        34.78   \n",
       "1           1  1968      Alaska          2.10        34.78   \n",
       "2           2  1968     Arizona          0.66        34.78   \n",
       "3           3  1968    Arkansas          0.16        34.78   \n",
       "4           4  1968  California          1.65        34.78   \n",
       "\n",
       "   Wage equivalent in 2018  \n",
       "0                    11.55  \n",
       "1                    15.12  \n",
       "2                     4.75  \n",
       "3                     1.12  \n",
       "4                    11.88  "
      ]
     },
     "execution_count": 18,
     "metadata": {},
     "output_type": "execute_result"
    }
   ],
   "source": [
    "new_df = df.head()\n",
    "new_df.head()"
   ]
  },
  {
   "cell_type": "code",
   "execution_count": 69,
   "metadata": {},
   "outputs": [],
   "source": [
    "# plot all states in a scatter plot\n",
    "x = new_df[\"Year\"].unique();\n",
    "y = new_df[\"Minimum Wage\"].mean()\n"
   ]
  },
  {
   "cell_type": "code",
   "execution_count": 70,
   "metadata": {},
   "outputs": [
    {
     "data": {
      "text/plain": [
       "<matplotlib.collections.PathCollection at 0x121003f60>"
      ]
     },
     "execution_count": 70,
     "metadata": {},
     "output_type": "execute_result"
    },
    {
     "data": {
      "image/png": "[encoded data removed]",
      "text/plain": [
       "<Figure size 432x288 with 1 Axes>"
      ]
     },
     "metadata": {
      "needs_background": "light"
     },
     "output_type": "display_data"
    }
   ],
   "source": [
    "#\n",
    "plt.xlabel(\"Year\"); plt.ylabel(\"Minimum Wage\")\n",
    "plt.scatter(x, y, marker=\"o\", facecolors=\"red\", edgecolors=\"black\",\n",
    "            s=x, alpha=0.75)\n",
    "\n",
    "# Min Wage over time for all states\n"
   ]
  },
  {
   "cell_type": "code",
   "execution_count": 61,
   "metadata": {
    "scrolled": true
   },
   "outputs": [
    {
     "data": {
      "text/plain": [
       "<Figure size 432x288 with 0 Axes>"
      ]
     },
     "metadata": {},
     "output_type": "display_data"
    }
   ],
   "source": [
    "# Saves an image of our chart so that we can view it in a folder\n",
    "plt.savefig(\"./Resources/Min Wage over time for all states.png\")\n",
    "plt.show()"
   ]
  },
  {
   "cell_type": "code",
   "execution_count": 39,
   "metadata": {},
   "outputs": [],
   "source": [
    "#df_grp = df.groupby([\"State\", \"Year\"])\n",
    "#df_grp.mean()"
   ]
  },
  {
   "cell_type": "code",
   "execution_count": null,
   "metadata": {},
   "outputs": [],
   "source": []
  },
  {
   "cell_type": "code",
   "execution_count": null,
   "metadata": {},
   "outputs": [],
   "source": []
  }
 ],
 "metadata": {
  "kernelspec": {
   "display_name": "Python 3",
   "language": "python",
   "name": "python3"
  },
  "language_info": {
   "codemirror_mode": {
    "name": "ipython",
    "version": 3
   },
   "file_extension": ".py",
   "mimetype": "text/x-python",
   "name": "python",
   "nbconvert_exporter": "python",
   "pygments_lexer": "ipython3",
   "version": "3.7.3"
  }
 },
 "nbformat": 4,
 "nbformat_minor": 2
}
